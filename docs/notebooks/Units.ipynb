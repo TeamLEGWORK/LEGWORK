{
 "cells": [
  {
   "cell_type": "markdown",
   "metadata": {},
   "source": [
    "# Understanding units in LEGWORK"
   ]
  },
  {
   "cell_type": "raw",
   "metadata": {
    "raw_mimetype": "text/restructuredtext",
    "tags": []
   },
   "source": [
    "In this tutorial, we explain how units work in ``LEGWORK``, how to create proper input for functions and how to convert output to units of your choice. Note that ``LEGWORK`` uses the :mod:`astropy.units` module for units and so this tutorial draws heavily from `their documentation <https://docs.astropy.org/en/stable/units/>`_!\n",
    "\n",
    "We've this tutorial up as a sort of FAQ so feel free to skip to the most relevant part!"
   ]
  },
  {
   "cell_type": "raw",
   "metadata": {
    "raw_mimetype": "text/restructuredtext",
    "tags": []
   },
   "source": [
    "Let's start by important the ``LEGWORK`` source module as well as :mod:`astropy.units` and numpy."
   ]
  },
  {
   "cell_type": "code",
   "execution_count": 1,
   "metadata": {},
   "outputs": [],
   "source": [
    "import legwork.source as source\n",
    "import astropy.units as u\n",
    "\n",
    "import numpy as np"
   ]
  },
  {
   "cell_type": "markdown",
   "metadata": {},
   "source": [
    "## What units can I use?"
   ]
  },
  {
   "cell_type": "markdown",
   "metadata": {},
   "source": [
    "We follow the [Standard Units](https://docs.astropy.org/en/stable/units/standard_units.html) defined in Astropy. This means that\n",
    "\n",
    "- **lengths** are defined in terms of **metres** (or equivalent units)\n",
    "- **masses** are defined in terms of **kilograms** (or equivalent units)\n",
    "- **times** are defined in terms of **seconds** (or equivalent units)\n",
    "\n",
    "However, if you're planning to try to measure the gravitational waves from a source for which kilograms is a sensible unit for the mass, I've got some bad news for you...\n",
    "\n",
    "Therefore, for `LEGWORK` you are most likely to focus on the following units:\n",
    "\n",
    "- mass: $\\rm M_{\\odot}$, accessed via `u.Msun`\n",
    "- frequency: $\\rm Hz$, accessed via `u.Hz`\n",
    "- distance: $\\rm kpc, Mpc, Gpc$, accessed via `u.kpc`, `u.Mpc`, `u.Gpc`\n",
    "- separation: $\\rm AU$, accessed via `u.AU` or perhaps $\\rm R_{\\odot}$, accessed via `u.Rsun`\n",
    "- ages: $\\rm yr, Myr, Gyr$, accessed via `u.yr`, `u.Myr`, `u.Gyr`"
   ]
  },
  {
   "cell_type": "markdown",
   "metadata": {},
   "source": [
    "But that doesn't mean you *have* to use these units because of the flexibility of Astropy. ``LEGWORK`` will accept any equivalent unit to those listed above.\n",
    "\n",
    "Astropy provides a very convenient method for getting equivalent units. Say you know you could input the mass of a source in kilograms but you know that this isn't the best unit. You can find some equivalent choices by running"
   ]
  },
  {
   "cell_type": "code",
   "execution_count": 2,
   "metadata": {},
   "outputs": [
    {
     "data": {
      "text/html": [
       "<table style=\"width:50%\"><tr><th>Primary name</th><th>Unit definition</th><th>Aliases</th></tr><tr><td>M_e</td><td>9.10938e-31 kg</td><td></td></tr><tr><td>M_p</td><td>1.67262e-27 kg</td><td></td></tr><tr><td>earthMass</td><td>5.97217e+24 kg</td><td>M_earth, Mearth</td></tr><tr><td>g</td><td>0.001 kg</td><td>gram</td></tr><tr><td>jupiterMass</td><td>1.89812e+27 kg</td><td>M_jup, Mjup, M_jupiter, Mjupiter</td></tr><tr><td>kg</td><td>irreducible</td><td>kilogram</td></tr><tr><td>solMass</td><td>1.98841e+30 kg</td><td>M_sun, Msun</td></tr><tr><td>t</td><td>1000 kg</td><td>tonne</td></tr><tr><td>u</td><td>1.66054e-27 kg</td><td>Da, Dalton</td></tr></table>"
      ],
      "text/plain": [
       "  Primary name | Unit definition | Aliases                         \n",
       "[\n",
       "  M_e          | 9.10938e-31 kg  |                                  ,\n",
       "  M_p          | 1.67262e-27 kg  |                                  ,\n",
       "  earthMass    | 5.97217e+24 kg  | M_earth, Mearth                  ,\n",
       "  g            | 0.001 kg        | gram                             ,\n",
       "  jupiterMass  | 1.89812e+27 kg  | M_jup, Mjup, M_jupiter, Mjupiter ,\n",
       "  kg           | irreducible     | kilogram                         ,\n",
       "  solMass      | 1.98841e+30 kg  | M_sun, Msun                      ,\n",
       "  t            | 1000 kg         | tonne                            ,\n",
       "  u            | 1.66054e-27 kg  | Da, Dalton                       ,\n",
       "]"
      ]
     },
     "execution_count": 2,
     "metadata": {},
     "output_type": "execute_result"
    }
   ],
   "source": [
    "u.kg.find_equivalent_units()"
   ]
  },
  {
   "cell_type": "markdown",
   "metadata": {},
   "source": [
    "And thus you can see that you could even use the mass of an electron (`u.M_e`) as your unit if that is your heart's desire."
   ]
  },
  {
   "cell_type": "markdown",
   "metadata": {},
   "source": [
    "## How do I give a variable units?"
   ]
  },
  {
   "cell_type": "markdown",
   "metadata": {},
   "source": [
    "Okay great, so you know what unit you want to use, now you just need to apply it to a variable. Say you have a list of masses that looks like this"
   ]
  },
  {
   "cell_type": "code",
   "execution_count": 3,
   "metadata": {},
   "outputs": [
    {
     "name": "stdout",
     "output_type": "stream",
     "text": [
      "[1.0, 1.4, 10, 30, 50]\n"
     ]
    }
   ],
   "source": [
    "# a list of masses\n",
    "masses = [1.0, 1.4, 10, 30, 50]\n",
    "print(masses)"
   ]
  },
  {
   "cell_type": "markdown",
   "metadata": {},
   "source": [
    "and you know that each mass is in terms of solar masses. To make sure `LEGWORK` knows this you multiply your variable by the unit."
   ]
  },
  {
   "cell_type": "code",
   "execution_count": 4,
   "metadata": {},
   "outputs": [
    {
     "name": "stdout",
     "output_type": "stream",
     "text": [
      "[ 1.   1.4 10.  30.  50. ] solMass\n"
     ]
    }
   ],
   "source": [
    "masses_with_units = masses * u.Msun\n",
    "print(masses_with_units)"
   ]
  },
  {
   "cell_type": "markdown",
   "metadata": {},
   "source": [
    "And...that's it! Your input has been transformed into an Astropy Quantity rather than a simple Python list and you're good to go!"
   ]
  },
  {
   "cell_type": "markdown",
   "metadata": {},
   "source": [
    "## Could you show me an example of using units with `LEGWORK` input?\n",
    "Well, how could I say no when you asked so nicely? Let's create a collection sources and get their SNRs."
   ]
  },
  {
   "cell_type": "code",
   "execution_count": 5,
   "metadata": {},
   "outputs": [],
   "source": [
    "# let's define the primary in solar masses\n",
    "m_1 = [10, 12, 30] * u.Msun\n",
    "\n",
    "# and the secondary in electron masses (because why not)\n",
    "m_2 = [1e60, 5e60, 7.5e60] * u.M_e\n",
    "\n",
    "# then the frequencies are generally defined in terms of Hertz\n",
    "f_orb = [1e-3, 1e-4, 1e-2] * u.Hz\n",
    "\n",
    "# and the distances with kiloparsecs\n",
    "dist = [1, 8, 50] * u.kpc\n",
    "\n",
    "# finally, eccentricity has no unit\n",
    "ecc = [0.7, 0.0, 0.2]\n",
    "\n",
    "sources = source.Source(m_1=m_1, m_2=m_2, f_orb=f_orb, dist=dist, ecc=ecc, interpolate_g=False)"
   ]
  },
  {
   "cell_type": "markdown",
   "metadata": {},
   "source": [
    "Then if we ask the class for the signal-to-noise ratio it will handle the units cleanly and fully simplify."
   ]
  },
  {
   "cell_type": "code",
   "execution_count": 6,
   "metadata": {},
   "outputs": [
    {
     "data": {
      "text/plain": [
       "array([3.76050048e+03, 8.61372971e-01, 4.14167952e+03])"
      ]
     },
     "execution_count": 6,
     "metadata": {},
     "output_type": "execute_result"
    }
   ],
   "source": [
    "sources.get_snr()"
   ]
  },
  {
   "cell_type": "markdown",
   "metadata": {},
   "source": [
    "Be careful though, if you don't use correct units then you'll get a `UnitConversionError` that may be hard to isolate."
   ]
  },
  {
   "cell_type": "code",
   "execution_count": 7,
   "metadata": {},
   "outputs": [
    {
     "name": "stdout",
     "output_type": "stream",
     "text": [
      "'m(1/3) solMass(1/3) / (kg(1/3) s(2/3))' and 'AU' (length) are not convertible\n"
     ]
    }
   ],
   "source": [
    "try:\n",
    "    # give frequency units of length\n",
    "    f_orb = f_orb.value * u.m\n",
    "    # try to create a source\n",
    "    sources = source.Source(m_1=m_1, m_2=m_2, f_orb=f_orb, dist=dist, ecc=ecc, interpolate_g=False)\n",
    "except u.UnitConversionError as error:\n",
    "    print(error)"
   ]
  },
  {
   "cell_type": "markdown",
   "metadata": {},
   "source": [
    "## How do you convert between units?\n",
    "Great work, if you've got this far then you can now provide input to `LEGWORK` with any unit of your choice.\n",
    "\n",
    "But what about the output? `LEGWORK` tries to choose some sensible units for the output but maybe you want something else and can't for the life of you remember the difference between a kiloparsec and a light year. Never fear, Astropy has you covered!"
   ]
  },
  {
   "cell_type": "markdown",
   "metadata": {},
   "source": [
    "In order to convert between units you can use the `.to()` method of an Astropy quanitity. Let's get the merger times of the sources that we defined in the earlier example and convert the result to different units."
   ]
  },
  {
   "cell_type": "code",
   "execution_count": 8,
   "metadata": {},
   "outputs": [
    {
     "data": {
      "text/latex": [
       "$[1.4564593 \\times 10^{-5},~0.013231627,~1.8741491 \\times 10^{-8}] \\; \\mathrm{Gyr}$"
      ],
      "text/plain": [
       "<Quantity [1.45645929e-05, 1.32316266e-02, 1.87414908e-08] Gyr>"
      ]
     },
     "execution_count": 8,
     "metadata": {},
     "output_type": "execute_result"
    }
   ],
   "source": [
    "# get the merger times\n",
    "t_merge = sources.get_merger_time()\n",
    "\n",
    "# by default LEGWORK uses Gyr for merger times\n",
    "t_merge"
   ]
  },
  {
   "cell_type": "code",
   "execution_count": 9,
   "metadata": {},
   "outputs": [
    {
     "data": {
      "text/latex": [
       "$[14564.593,~13231627,~18.741491] \\; \\mathrm{yr}$"
      ],
      "text/plain": [
       "<Quantity [1.45645929e+04, 1.32316266e+07, 1.87414908e+01] yr>"
      ]
     },
     "execution_count": 9,
     "metadata": {},
     "output_type": "execute_result"
    }
   ],
   "source": [
    "# but we could look at how many years this is\n",
    "t_merge.to(u.yr)"
   ]
  },
  {
   "cell_type": "code",
   "execution_count": 10,
   "metadata": {},
   "outputs": [
    {
     "data": {
      "text/latex": [
       "$[379979.83,~3.4520369 \\times 10^{8},~488.95211] \\; \\mathrm{fortnight}$"
      ],
      "text/plain": [
       "<Quantity [3.79979825e+05, 3.45203688e+08, 4.88952107e+02] fortnight>"
      ]
     },
     "execution_count": 10,
     "metadata": {},
     "output_type": "execute_result"
    }
   ],
   "source": [
    "# or maybe you just really want to know how many fortnights until your favourite source merges\n",
    "t_merge.to(u.fortnight)"
   ]
  },
  {
   "cell_type": "markdown",
   "metadata": {},
   "source": [
    "You can also convert to any *combination* of units as long as they simplify to an equivalent unit."
   ]
  },
  {
   "cell_type": "code",
   "execution_count": 11,
   "metadata": {},
   "outputs": [
    {
     "data": {
      "text/latex": [
       "$[7.3247438 \\times 10^{-27},~6.6543759 \\times 10^{-24},~9.425366 \\times 10^{-30}] \\; \\mathrm{\\frac{M_{\\odot}\\,yr}{kg}}$"
      ],
      "text/plain": [
       "<Quantity [7.32474381e-27, 6.65437586e-24, 9.42536599e-30] solMass yr / kg>"
      ]
     },
     "execution_count": 11,
     "metadata": {},
     "output_type": "execute_result"
    }
   ],
   "source": [
    "# let's convert to a combination of units\n",
    "t_merge.to(u.yr * u.Msun / u.kg)"
   ]
  },
  {
   "cell_type": "markdown",
   "metadata": {},
   "source": [
    "Beware though, if you try to convert to a unit isn't equivalent then you'll get an `UnitConversionerror`"
   ]
  },
  {
   "cell_type": "code",
   "execution_count": 12,
   "metadata": {},
   "outputs": [
    {
     "name": "stdout",
     "output_type": "stream",
     "text": [
      "'Gyr' (time) and 'solMass yr' are not convertible\n"
     ]
    }
   ],
   "source": [
    "try:\n",
    "    t_merge.to(u.yr * u.Msun)\n",
    "except u.UnitConversionError as error:\n",
    "    print(error)"
   ]
  },
  {
   "cell_type": "markdown",
   "metadata": {},
   "source": [
    "## How do I decompose a variable's value and unit?"
   ]
  },
  {
   "cell_type": "markdown",
   "metadata": {},
   "source": [
    "So you've got the result and now the pesky unit is perhaps getting in the way of saving the result or doesn't work with another of your functions. If you want to get the value back then just use `.value` like this"
   ]
  },
  {
   "cell_type": "code",
   "execution_count": 13,
   "metadata": {},
   "outputs": [
    {
     "name": "stdout",
     "output_type": "stream",
     "text": [
      "[ 1.   1.4 10.  30.  50. ] solMass\n",
      "[ 1.   1.4 10.  30.  50. ]\n"
     ]
    }
   ],
   "source": [
    "masses_with_units = [1.0, 1.4, 10, 30, 50] * u.Msun\n",
    "print(masses_with_units)\n",
    "print(masses_with_units.value)"
   ]
  },
  {
   "cell_type": "markdown",
   "metadata": {},
   "source": [
    "You can also use `.unit` to get the unit of a variable (this can be very useful when plotting and labelled axes)"
   ]
  },
  {
   "cell_type": "code",
   "execution_count": 14,
   "metadata": {},
   "outputs": [
    {
     "name": "stdout",
     "output_type": "stream",
     "text": [
      "[ 1.   1.4 10.  30.  50. ] solMass\n",
      "solMass\n"
     ]
    }
   ],
   "source": [
    "print(masses_with_units)\n",
    "print(masses_with_units.unit)"
   ]
  },
  {
   "cell_type": "markdown",
   "metadata": {},
   "source": [
    "That's all for this tutorial, be sure to check out [the other ones](../tutorials.rst) to find *other* ways to keep your feet up and let us do the `LEGWORK`! If you still have questions about units we recommend that you take a look at the [Astropy documentation](https://docs.astropy.org/en/stable/units/) directly."
   ]
  }
 ],
 "metadata": {
  "kernelspec": {
   "display_name": "Python 3",
   "language": "python",
   "name": "python3"
  },
  "language_info": {
   "codemirror_mode": {
    "name": "ipython",
    "version": 3
   },
   "file_extension": ".py",
   "mimetype": "text/x-python",
   "name": "python",
   "nbconvert_exporter": "python",
   "pygments_lexer": "ipython3",
   "version": "3.8.5"
  }
 },
 "nbformat": 4,
 "nbformat_minor": 4
}
