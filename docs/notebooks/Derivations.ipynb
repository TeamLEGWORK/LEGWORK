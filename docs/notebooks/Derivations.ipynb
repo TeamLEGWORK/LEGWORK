{
 "cells": [
  {
   "cell_type": "markdown",
   "id": "d94a3b38",
   "metadata": {},
   "source": [
    "# Derivations and Equation Reference\n",
    "This guide explains the origin and derivation of the equations used in ``LEGWORK`` functions. Let's go through each of the modules and build up to an equation for the signal-to-noise ratio for a given LISA source.\n",
    "\n",
    "At the end of this document ([here](#Equation-to-Function-Table)) is a table that relates each of the functions in ``LEGWORK`` to an equation in this document."
   ]
  },
  {
   "cell_type": "markdown",
   "id": "b86f6f0c",
   "metadata": {},
   "source": [
    "## Conversions and Definitions (`utils`)"
   ]
  },
  {
   "cell_type": "markdown",
   "id": "f9d2ee78",
   "metadata": {},
   "source": [
    "This section contains a miscellaneous collection of conversions and definitions that are useful in the later derivations. First, the chirp mass of a binary is defined as "
   ]
  },
  {
   "cell_type": "markdown",
   "id": "3a6c5bdd",
   "metadata": {},
   "source": [
    "\\begin{equation}\n",
    "\\mathcal{M}_{c} = \\frac{(m_1 m_2)^{3/5}}{(m_1 + m_2)^{1/5}},\n",
    "\\label{eq:chirpmass}\n",
    "\\end{equation}"
   ]
  },
  {
   "cell_type": "markdown",
   "id": "ccffab33",
   "metadata": {},
   "source": [
    "where $m_1$ and $m_2$ are the primary and secondary mass of the binary. This term often shows up in many equations and hence is easier to measure in gravitational wave data analysis than the individual component masses."
   ]
  },
  {
   "cell_type": "markdown",
   "id": "5f255daf",
   "metadata": {},
   "source": [
    "Kepler's third law allows one to convert between orbital frequency, $f_{\\rm orb}$, and the semi-major axis, $a$, of a binary. For convenience we show it here"
   ]
  },
  {
   "cell_type": "markdown",
   "id": "85a491df",
   "metadata": {},
   "source": [
    "\\begin{equation}\n",
    "a = \\left(\\frac{G(m_1 + m_2)}{(2 \\pi f_{\\rm orb})^{2}}\\right)^{1/3},\\qquad f_{\\rm orb} = \\frac{1}{2 \\pi} \\sqrt{\\frac{G(m_1 + m_2)}{a^3}}.\n",
    "\\label{eq:kepler3rd}\n",
    "\\end{equation}"
   ]
  },
  {
   "cell_type": "markdown",
   "id": "8adc0110",
   "metadata": {},
   "source": [
    "As we deal with eccentric binaries, the different harmonic frequencies of gravitational wave emission become important. We can write that the relative power radiated into the $n^{\\rm th}$ harmonic for a binary with eccentricity $e$ is <cite data-cite=\"Peters1963\"></cite> (Eq. 20)"
   ]
  },
  {
   "cell_type": "markdown",
   "id": "89479476",
   "metadata": {},
   "source": [
    "\\begin{equation}\n",
    "\\begin{aligned}\n",
    "g(n, e) = \\frac{n^{4}}{32} & \\left\\{ \\left[ J_{n-2}(n e)-2 e J_{n-1}(n e)+\\frac{2}{n} J_{n}(n e)+2 e J_{n+1}(n e)-J_{n+2}(n e)\\right]^{2}\\right.\\\\\n",
    "&\\left.+\\left(1-e^{2}\\right)\\left[J_{n-2}(n e)-2 J_{n}(n e)+J_{n+2}(n e)\\right]^{2}+\\frac{4}{3 n^{2}}\\left[J_{n}(n e)\\right]^{2}\\right\\},\n",
    "\\end{aligned}\n",
    "\\label{eq:g(n,e)}\n",
    "\\end{equation}"
   ]
  },
  {
   "cell_type": "markdown",
   "id": "b62001d5",
   "metadata": {},
   "source": [
    "where $J_{n}(v)$ is the [Bessel function of the first kind](https://mathworld.wolfram.com/BesselFunctionoftheFirstKind.html). Thus, the sum of $g(n, e)$ over all harmonics gives the factor by which the gravitational wave emission is stronger for a binary of eccentricity $e$ over an otherwise identical circular binary. This enhancement factor is defined by Peters as <cite data-cite=\"Peters1963\"></cite> (Eq. 17)"
   ]
  },
  {
   "cell_type": "markdown",
   "id": "8bdf82c2",
   "metadata": {},
   "source": [
    "\\begin{equation}\n",
    "F(e) = \\sum_{n = 1}^{\\infty} g(n, e) =  \\frac{1 + (73 / 24) e^2 + (37 / 96) e^4}{(1 - e^2)^{7/2}}.\n",
    "\\label{eq:eccentricity_enhancement_factor}\n",
    "\\end{equation}"
   ]
  },
  {
   "cell_type": "markdown",
   "id": "5927faf2",
   "metadata": {},
   "source": [
    "Note that $F(0) = 1$ as one would expect. A useful number to remember is that $F(0.5) \\approx 5.0$, or in words, a binary with eccentricity $0.5$ loses energy to gravitational waves at a rate about $5$ times higher than a similar circular binary."
   ]
  },
  {
   "cell_type": "markdown",
   "id": "3c8a037a",
   "metadata": {},
   "source": [
    "For binary evolution Peters and Mathews introduced two constants that are useful for calculations though without physical meaning. First, from <cite data-cite=\"Peters1964\"></cite> (Eq. 5.9)"
   ]
  },
  {
   "cell_type": "markdown",
   "id": "1e0b7c39",
   "metadata": {},
   "source": [
    "\\begin{equation}\n",
    "\\beta(m_1, m_2) = \\frac{64}{5} \\frac{G^3}{c^5} m_1 m_2 (m_1 + m_2).\n",
    "\\label{eq:beta_peters}\n",
    "\\end{equation}"
   ]
  },
  {
   "cell_type": "markdown",
   "id": "f7693550",
   "metadata": {},
   "source": [
    "And additionally from <cite data-cite=\"Peters1964\"></cite> (Eq. 5.11)\n",
    "\\begin{equation}\n",
    "c_0(a_0, e_0) = a_0 \\frac{(1 - e_0^2)}{e_0^{12/19}} \\left(1 + \\frac{121}{304} e_0^2\\right)^{-870/2299}\n",
    "\\label{eq:c0_peters}\n",
    "\\end{equation}\n",
    "where $a_0$ and $e_0$ are the initial semi-major axis and eccentricity respectively. "
   ]
  },
  {
   "cell_type": "markdown",
   "id": "6e079611",
   "metadata": {},
   "source": [
    "## Binary Evolution (`evol`)"
   ]
  },
  {
   "cell_type": "markdown",
   "id": "fe55aef6",
   "metadata": {},
   "source": [
    "### Circular binaries\n",
    "For a circular binary, the evolution can be calculated analytically as the rate at which the binary shrinks can be readily integrated. This gives the semi-major axis of a circular binary as a function of time as <cite data-cite=\"Peters1964\"></cite> (Eq. 5.9)"
   ]
  },
  {
   "cell_type": "markdown",
   "id": "4c7b79dd",
   "metadata": {},
   "source": [
    "\\begin{equation}\n",
    "a(t, m_1, m_2) = [a_0^4 - 4 t \\beta(m_1, m_2)]^{1/4},\n",
    "\\label{eq:a_over_time_circ}\n",
    "\\end{equation}"
   ]
  },
  {
   "cell_type": "markdown",
   "id": "ad77be71",
   "metadata": {},
   "source": [
    "where $a_0$ is the initial semi-major axis and $\\beta$ is defined in Eq. \\eqref{eq:beta_peters}. We can use this to also get the frequency evolution by using Kepler's third law Eq. \\eqref{eq:kepler3rd}.\n",
    "\n",
    "Moreover, we can set the final semi-major axis in Eq. \\eqref{eq:a_over_time_circ} equal to zero and solve for the inspiral time (<cite data-cite=\"Peters1964\"></cite> Eq. 5.10)"
   ]
  },
  {
   "cell_type": "markdown",
   "id": "64e6146e",
   "metadata": {},
   "source": [
    "\\begin{equation}\n",
    "t_{\\rm merge, circ} = \\frac{a_0^4}{4 \\beta}\n",
    "\\label{eq:t_merge_circular}\n",
    "\\end{equation}"
   ]
  },
  {
   "cell_type": "markdown",
   "id": "432f3e3e",
   "metadata": {},
   "source": [
    "### Eccentric binaries\n",
    "Eccentric binaries are more complicated because the semi-major axis and eccentricity both evolve simultaneously and depend on one another. These equations cannot be solved analytically and require numerical integration. Firstly, we can relate $a$ and $e$ with <cite data-cite=\"Peters1964\"></cite> (Eq. 5.11)"
   ]
  },
  {
   "cell_type": "markdown",
   "id": "00b78513",
   "metadata": {},
   "source": [
    "\\begin{equation}\n",
    "a(e) = c_0 \\frac{e^{12/19}}{(1 - e^2)} \\left(1 + \\frac{121}{304} e^2\\right)^{870/2299},\n",
    "\\label{eq:a_from_e}\n",
    "\\end{equation}"
   ]
  },
  {
   "cell_type": "markdown",
   "id": "2091a4a7",
   "metadata": {},
   "source": [
    "where $c_0$ is defined in Eq. \\eqref{eq:c0_peters} -- such that the initial conditions are satisfied. Then we can numerically integrate <cite data-cite=\"Peters1964\"></cite> (Eq. 5.13)"
   ]
  },
  {
   "cell_type": "markdown",
   "id": "c793b5fa",
   "metadata": {},
   "source": [
    "\\begin{equation}\n",
    "\\frac{\\mathrm{d}e}{\\mathrm{d}t} = -\\frac{19}{12} \\frac{\\beta}{c_{0}^{4}} \\frac{e^{-29 / 19}\\left(1-e^{2}\\right)^{3 / 2}}{\\left[1+(121 / 304) e^{2}\\right]^{1181 / 2299}},\n",
    "\\label{eq:dedt}\n",
    "\\end{equation}"
   ]
  },
  {
   "cell_type": "markdown",
   "id": "19cf3de8",
   "metadata": {},
   "source": [
    "to find $e(t)$ and use this in conjunction with Eq. \\eqref{eq:a_from_e} to solve for $a(t)$, which can in turn be converted to $f_{\\rm orb}(t)$.\n",
    "\n",
    "Furthermore, we can invert this to find the inspiral time by using that $e \\to 0$ when the binary merges which gives <cite data-cite=\"Peters1964\"></cite> (Eq. 5.14)"
   ]
  },
  {
   "cell_type": "markdown",
   "id": "6ab3db2e",
   "metadata": {},
   "source": [
    "\\begin{equation}\n",
    "t_{\\rm merge} = \\frac{12}{19} \\frac{c_{0}^{4}}{\\beta} \\int_0^{e_0} \\frac{\\left[1+(121 / 304) e^{2}\\right]^{1181 / 2299}}{e^{-29 / 19}\\left(1-e^{2}\\right)^{3 / 2}} \\mathrm{d}e\n",
    "\\label{eq:t_merge_eccentric}\n",
    "\\end{equation}"
   ]
  },
  {
   "cell_type": "markdown",
   "id": "f9cd60d4",
   "metadata": {},
   "source": [
    "For very small or very large eccentricities we can approximate this integral using the following expressions (given in unlabelled equations after <cite data-cite=\"Peters1964\"></cite> Eq. 5.14)"
   ]
  },
  {
   "cell_type": "markdown",
   "id": "30f169f3",
   "metadata": {},
   "source": [
    "\\begin{equation}\n",
    "t_{\\rm merge,\\, e^2 \\ll 1} = \\frac{c_0^4}{4 \\beta} \\cdot e_0^{48 / 19}\n",
    "\\end{equation}"
   ]
  },
  {
   "cell_type": "markdown",
   "id": "d718dbd2",
   "metadata": {},
   "source": [
    "\\begin{equation}\n",
    "t_{\\rm merge,\\, (1 - e^2) \\ll 1} = \\frac{768}{425} \\frac{a_0^4}{4 \\beta} (1 - e_0^2)^{7/2}\n",
    "\\end{equation}"
   ]
  },
  {
   "cell_type": "markdown",
   "id": "6ace7011",
   "metadata": {},
   "source": [
    "## Gravitational Wave Strains (`strain`)"
   ]
  },
  {
   "cell_type": "markdown",
   "id": "9173c868",
   "metadata": {},
   "source": [
    "### Characteristic Strain\n",
    "The characteristic strain from a binary in the $n^{\\rm th}$ harmonic is defined as follows (e.g. <cite data-cite=\"Barack&Cutler2004\"></cite> Eq. 56; <cite data-cite=\"Flanagan+1998\"></cite> Eq. 5.1)"
   ]
  },
  {
   "cell_type": "markdown",
   "id": "d0b6ebf1",
   "metadata": {},
   "source": [
    "\\begin{equation}\n",
    "h_{c,n}^2 = \\frac{1}{(\\pi D_L)^2} \\left( \\frac{2 G}{c^3} \\frac{\\dot{E_n}}{\\dot{f_n}} \\right),\n",
    "\\label{eq:char_strain_dedf}\n",
    "\\end{equation}"
   ]
  },
  {
   "cell_type": "markdown",
   "id": "5f8a8536",
   "metadata": {},
   "source": [
    "where $D_L$ is the luminosity distance to the binary, $\\dot{E}_n$ is the power radiated in the $n^{\\rm th}$ harmonic and $\\dot{f}_n$ is the rate of change of the $n^{\\rm th}$ harmonic frequency. The power radiated in the $n^{\\rm th}$ harmonic is given by <cite data-cite=\"Peters1963\"></cite> (Eq. 19)"
   ]
  },
  {
   "cell_type": "markdown",
   "id": "0b739c57",
   "metadata": {},
   "source": [
    "\\begin{equation}\n",
    "\\dot{E}_n = \\frac{32}{5} \\frac{G^{4}}{c^5} \\frac{m_{1}^{2} m_{2}^{2}\\left(m_{1}+m_{2}\\right)}{a^{5}} g(n, e),\n",
    "\\label{eq:edot_peters}\n",
    "\\end{equation}"
   ]
  },
  {
   "cell_type": "markdown",
   "id": "2f43c092",
   "metadata": {},
   "source": [
    "where $m_1$ is the primary mass, $m_2$ is the secondary mass, $a$ is the semi-major axis of the binary and $e$ is the eccentricity. Using Eq. \\eqref{eq:chirpmass} and Eq. \\eqref{eq:kepler3rd}, we can recast Eq. \\eqref{eq:edot_peters} in a form more applicable for gravitational wave detections that is a function of only the chirp mass, orbital frequency and eccentricity."
   ]
  },
  {
   "cell_type": "markdown",
   "id": "bfba1f2d",
   "metadata": {},
   "source": [
    "\\begin{align}\n",
    "\\dot{E}_n &= \\frac{32}{5} \\frac{G^{4}}{c^5} \\left(m_{1}^{2} m_{2}^{2}\\left(m_{1}+m_{2}\\right)\\right) g(n, e) \\cdot \\left(\\frac{(2 \\pi f_{\\rm orb})^{2}}{G(m_1 + m_2)}\\right)^{5/3} \\\\\n",
    "\\dot{E}_n &= \\frac{32}{5} \\frac{G^{7/3}}{c^5} \\frac{m_{1}^{2} m_{2}^{2}}{\\left(m_{1}+m_{2}\\right)^{2/3}} (2 \\pi f_{\\rm orb})^{10/3} g(n, e) \\\\\n",
    "\\dot{E}_n(\\mathcal{M}_c, f_{\\rm orb}, e) &= \\frac{32}{5} \\frac{G^{7 / 3}}{c^{5}}\\left(2 \\pi f_{\\mathrm{orb}} \\mathcal{M}_{c}\\right)^{10 / 3} g(n, e)\n",
    "\\label{eq:edot}\n",
    "\\end{align}"
   ]
  },
  {
   "cell_type": "markdown",
   "id": "0878ea49",
   "metadata": {},
   "source": [
    "The last term needed to define the characteristic strain in Eq. \\eqref{eq:char_strain_dedf} is the rate of change of the $n^{\\rm th}$ harmonic frequency. We can first apply the chain rule and note that"
   ]
  },
  {
   "cell_type": "markdown",
   "id": "9926e5a1",
   "metadata": {},
   "source": [
    "\\begin{equation}\n",
    "\\dot{f}_{n} = \\frac{\\mathrm{d}f_{n}}{\\mathrm{d} a} \\frac{\\mathrm{d} a}{\\mathrm{d} t}.\n",
    "\\label{eq:fdot_chainrule}\n",
    "\\end{equation}"
   ]
  },
  {
   "cell_type": "markdown",
   "id": "15168ba7",
   "metadata": {},
   "source": [
    "The frequency of the $n^{\\rm th}$ harmonic is simply defined as $f_n = n \\cdot f_{\\rm orb}$ and therefore we can find an expression for $\\mathrm{d} {f_{n}} / \\mathrm{d} {a}$ by rearranging and differentiating Eq. \\eqref{eq:kepler3rd}"
   ]
  },
  {
   "cell_type": "markdown",
   "id": "e03ac218",
   "metadata": {},
   "source": [
    "\\begin{align}\n",
    "f_{n} &= \\frac{n}{2 \\pi} \\sqrt{\\frac{G(m_1 + m_2)}{a^3}}, \\\\\n",
    "\\frac{\\mathrm{d}f_{n}}{\\mathrm{d} a} &= -\\frac{3 n}{4 \\pi} \\frac{\\sqrt{G(m_1 + m_2)}}{a^{5/2}}.\n",
    "\\label{eq:dfda}\n",
    "\\end{align}"
   ]
  },
  {
   "cell_type": "markdown",
   "id": "8ba12e11",
   "metadata": {},
   "source": [
    "The rate at which the semi-major axis decreases is <cite data-cite=\"Peters1964\"></cite> (Eq. 5.6)"
   ]
  },
  {
   "cell_type": "markdown",
   "id": "596362d4",
   "metadata": {},
   "source": [
    "\\begin{equation}\n",
    "\\frac{\\mathrm{d} a}{\\mathrm{d} t} = -\\frac{64}{5} \\frac{G^{3} m_{1} m_{2}\\left(m_{1}+m_{2}\\right)}{c^{5} a^{3}} F(e).\n",
    "\\label{eq:dadt}\n",
    "\\end{equation}"
   ]
  },
  {
   "cell_type": "markdown",
   "id": "cba09684",
   "metadata": {},
   "source": [
    "Substituting Eq. \\eqref{eq:dfda} and Eq. \\eqref{eq:dadt} into Eq. \\eqref{eq:fdot_chainrule} gives an expression for $\\dot{f}_{n}$"
   ]
  },
  {
   "cell_type": "markdown",
   "id": "32812539",
   "metadata": {},
   "source": [
    "\\begin{align}\n",
    "\\dot{f}_n &= -\\frac{3 n}{4 \\pi} \\frac{\\sqrt{G(m_1 + m_2)}}{a^{5/2}} \\cdot -\\frac{64}{5} \\frac{G^{3} m_{1} m_{2}\\left(m_{1}+m_{2}\\right)}{c^{5} a^{3}} F(e), \\\\\n",
    "\\dot{f}_n &= \\frac{48 n}{5 \\pi} \\frac{G^{7/2}}{c^5} \\left(m_1 m_2 (m_1 + m_2)^{3/2}\\right) \\frac{F(e)}{a^{11/2}},\n",
    "\\end{align}"
   ]
  },
  {
   "cell_type": "markdown",
   "id": "e17110f7",
   "metadata": {},
   "source": [
    "which, as above with $\\dot{E}_n$, we can recast using Kepler's third law and the definition of the chirp mass"
   ]
  },
  {
   "cell_type": "markdown",
   "id": "41f90d49",
   "metadata": {},
   "source": [
    "\\begin{align}\n",
    "\\dot{f}_n &= \\frac{48 n}{5 \\pi} \\frac{G^{7/2}}{c^5} \\left(m_1 m_2 (m_1 + m_2)^{3/2}\\right) F(e) \\cdot \\left(\\frac{(2 \\pi f_{\\rm orb})^{2}}{G(m_1 + m_2)}\\right)^{11/6}, \\\\\n",
    "&= \\frac{48 n}{5 \\pi} \\frac{G^{5/3}}{c^5} \\frac{m_1 m_2}{(m_1 + m_2)^{1/3}} \\cdot (2 \\pi f_{\\rm orb})^{11/3} \\cdot F(e), \\\\\n",
    "\\dot{f}_n(\\mathcal{M}_c, f_{\\rm orb}, e) &= \\frac{48 n}{5 \\pi} \\frac{\\left(G \\mathcal{M}_c \\right)^{5/3}}{c^5} (2 \\pi f_{\\rm orb})^{11/3} F(e)\n",
    "\\label{eq:fdot}\n",
    "\\end{align}"
   ]
  },
  {
   "cell_type": "markdown",
   "id": "49abdacc",
   "metadata": {},
   "source": [
    "With definitions of both $\\dot{E}_n$ and $\\dot{f}_n$, we are now in a position to find an expression for the characteristic strain by plugging Eq. \\eqref{eq:edot} and Eq. \\eqref{eq:fdot} into Eq. \\eqref{eq:char_strain}:"
   ]
  },
  {
   "cell_type": "markdown",
   "id": "41f27b2e",
   "metadata": {},
   "source": [
    "\\begin{align}\n",
    "h^2_{c,n} &= \\frac{1}{(\\pi D_L)^2} \\left( \\frac{2 G}{c^3} \\frac{\\frac{32}{5} \\frac{G^{7 / 3}}{c^{5}}\\left(2 \\pi f_{\\mathrm{orb}} \\mathcal{M}_{c}\\right)^{10 / 3} g(n, e)}{\\frac{48 n}{5 \\pi} \\frac{\\left(G \\mathcal{M}_c\\right)^{5/3}}{c^5} (2 \\pi f_{\\rm orb})^{11/3} F(e)} \\right) \\\\\n",
    "&= \\frac{1}{(\\pi D_L)^2} \\left( \\frac{2^{5/3} \\pi^{2/3}}{3} \\frac{(G \\mathcal{M}_c)^{5/3}}{c^3} \\frac{1}{f_{\\rm orb}^{1/3}} \\frac{g(n, e)}{n F(e)} \\right)\n",
    "\\end{align}"
   ]
  },
  {
   "cell_type": "markdown",
   "id": "e3d5589d",
   "metadata": {},
   "source": [
    "This gives a final simplified expression for the characteristic strain amplitude of a GW source."
   ]
  },
  {
   "cell_type": "markdown",
   "id": "b6658e15",
   "metadata": {},
   "source": [
    "\\begin{equation}\n",
    "h_{c,n}^2(\\mathcal{M}_c, D_L, f_{\\rm orb}, e) = \\frac{2^{5/3}}{3 \\pi^{4/3}} \\frac{(G \\mathcal{M}_c)^{5/3}}{c^3 D_L^2} \\frac{1}{f_{\\rm orb}^{1/3}} \\frac{g(n, e)}{n F(e)}\n",
    "\\label{eq:char_strain}\n",
    "\\end{equation}"
   ]
  },
  {
   "cell_type": "markdown",
   "id": "16434c07",
   "metadata": {},
   "source": [
    "### Strain\n",
    "The strain can be found by dividing the characteristic strain by the square root of twice the number of cycles. This is explained in <cite data-cite=\"Finn&Thorne2000\"></cite> and in further detail in <cite data-cite=\"Moore+2015\"></cite>. The physical reasoning behind the idea is that the binary will spend a certain amount of time in the vicinity of some frequency $f$ and cause a similar gravitational wave strain. This leads to the signal 'accumulating' and resulting in a larger signal-to-noise ratio. Therefore, the characteristic strain represents the strain measured by the detector over the duration of the mission, whilst the strain is what is emitted by the binary at each instantaneous moment.\n",
    "\n",
    "Following this logic, we can convert between characteristic strain and strain with (e.g. <cite data-cite=\"Finn&Thorne2000\"></cite> see text before Eq. 2.2)"
   ]
  },
  {
   "cell_type": "markdown",
   "id": "241f6702",
   "metadata": {},
   "source": [
    "\\begin{equation}\n",
    "h_{c, n}^2 = \\left(\\frac{f_n^2}{\\dot{f}_n} \\right) h_n^2.\n",
    "\\label{eq:strain-charstrain}\n",
    "\\end{equation}"
   ]
  },
  {
   "cell_type": "raw",
   "id": "0249f4f3-5d08-4d63-8f55-f8a224b2c786",
   "metadata": {
    "raw_mimetype": "text/restructuredtext",
    "tags": []
   },
   "source": [
    ".. note::\n",
    "    Note that this is factor of 2 different from :cite:`Finn&Thorne2000`. This is because the factor of 2 is already included in the :cite:`Robson+2019` sensitivity curve and so we remove it here."
   ]
  },
  {
   "cell_type": "markdown",
   "id": "1ef0b154",
   "metadata": {},
   "source": [
    "Therefore, using this, in addition to Eq. \\eqref{eq:fdot} and Eq. \\eqref{eq:char_strain}, we can write an expression for the strain amplitude of gravitational waves in the $n^{\\rm th}$ harmonic"
   ]
  },
  {
   "cell_type": "markdown",
   "id": "94bf4b91",
   "metadata": {},
   "source": [
    "\\begin{align}\n",
    "h_n^2 &= \\left(\\frac{\\dot{f}_n}{f_n^2} \\right) h_{c, n}^2, \\\\\n",
    "h_n^2 &= \\left(\\frac{48 n}{5 \\pi} \\frac{\\left(G \\mathcal{M}_c \\right)^{5/3}}{c^5} F(e) \\cdot \\frac{(2 \\pi f_{\\rm orb})^{11/3}}{n^2 f_{\\rm orb}^2} \\right) \\left(\\frac{2^{5/3}}{3 \\pi^{4/3}} \\frac{(G \\mathcal{M}_c)^{5/3}}{c^3 D_L^2} \\frac{1}{n f_{\\rm orb}^{1/3}} \\frac{g(n, e)}{F(e)} \\right),\n",
    "\\end{align}"
   ]
  },
  {
   "cell_type": "markdown",
   "id": "860574c7",
   "metadata": {},
   "source": [
    "This gives a final simplified expression for the strain amplitude of a GW source."
   ]
  },
  {
   "cell_type": "markdown",
   "id": "f40b3b55",
   "metadata": {},
   "source": [
    "\\begin{equation}\n",
    "h_n^2(\\mathcal{M}_c, f_{\\rm orb}, D_L, e) = \\frac{2^{28/3}}{5} \\frac{(G \\mathcal{M}_c)^{10/3}}{c^8 D_L^2} \\frac{g(n, e)}{n^2} \\left(\\pi f_{\\rm orb} \\right)^{4/3}\n",
    "\\label{eq:strain}\n",
    "\\end{equation}"
   ]
  },
  {
   "cell_type": "markdown",
   "id": "20778a3f-aeed-4bac-9d9b-4e48e06a0ee0",
   "metadata": {},
   "source": [
    "### Amplitude modulation for orbit averaged sources\n",
    "\n",
    "Because the LISA detectors are not stationary and instead follow an Earth-trailing orbit, the antenna pattern of LISA is not isotropically distributed or stationary. For sources that have a known position, inclination, and polarisation, we can consider the amplitude modulation of the strain due to the average motion of LISA's orbit. We closely follow the results of <cite data-cite=\"Cornish2003\"></cite> to write down the amplitude modulation as"
   ]
  },
  {
   "cell_type": "markdown",
   "id": "fb7592fa-c088-4ff7-b141-8b17eda3204c",
   "metadata": {},
   "source": [
    "\\begin{equation}\n",
    "A_{\\rm{mod}}^{2}=\\frac{1}{2} \\left[\\left(1+\\cos ^{2} \\iota\\right)^{2}\\left\\langle F_{+}^{2}\\right\\rangle+4 \\cos ^{2} \\iota\\left\\langle F_{\\times}^{2}\\right\\rangle\\right],\n",
    "\\label{eq:amp_mod}\n",
    "\\end{equation}"
   ]
  },
  {
   "cell_type": "markdown",
   "id": "5ae92483-66c7-40d8-a3b8-26edd42d2e62",
   "metadata": {},
   "source": [
    "where $\\left\\langle F_{+}^{2}\\right\\rangle$ and $\\left\\langle F_{\\times}^{2}\\right\\rangle$, the orbit-averaged detector responses, are defined as"
   ]
  },
  {
   "cell_type": "markdown",
   "id": "cfc1a794-3294-4d50-8594-330d85d59d6f",
   "metadata": {},
   "source": [
    "\\begin{equation}\n",
    "\\left \\langle F_{+}^{2} \\right\\rangle = \\frac{1}{4}\\big(\\cos ^{2} 2 \\psi\\left\\langle D_{+}^{2}\\right\\rangle -\\sin 4 \\psi\\left\\langle D_{+} D_{\\times}\\right\\rangle +\\sin ^{2} 2 \\psi\\left\\langle D_{\\times}^{2}\\right\\rangle\\big),\n",
    "\\label{eq:response_fplus}\n",
    "\\end{equation}"
   ]
  },
  {
   "cell_type": "markdown",
   "id": "29efd469-11d7-4dd8-b3cf-463f0dcbbba8",
   "metadata": {},
   "source": [
    "\\begin{equation}\n",
    "\\left\\langle F_{\\times}^{2} \\right\\rangle = \\frac{1}{4}\\big(\\cos^{2} 2 \\psi \\left \\langle D_{\\times}^{2} \\right\\rangle +\\sin 4 \\psi \\left \\langle D_{+} D_{\\times} \\right\\rangle +\\sin ^{2} 2 \\psi \\left \\langle D_{+}^{2} \\right\\rangle \\big),\n",
    "\\label{eq:response_fcross}\n",
    "\\end{equation}"
   ]
  },
  {
   "cell_type": "markdown",
   "id": "82bfcdf1-309f-47d2-b40d-02abcee7299f",
   "metadata": {},
   "source": [
    "and"
   ]
  },
  {
   "cell_type": "markdown",
   "id": "7581801e-f9de-4acd-a055-9043c9fe63bc",
   "metadata": {},
   "source": [
    "\\begin{equation}\n",
    "\\left\\langle D_{+} D_{\\times} \\right\\rangle = \\frac{243}{512} \\cos \\theta \\sin 2 \\phi \\left(2 \\cos ^{2} \\phi-1\\right) \\left(1+\\cos ^{2} \\theta\\right),\n",
    "\\label{eq:d_plus_cross}\n",
    "\\end{equation}\n",
    "\\begin{equation}\n",
    "\\left\\langle D_{\\times}^{2} \\right\\rangle = \\frac{3}{512}\\big(120 \\sin ^{2} \\theta +\\cos ^{2} \\theta + 162 \\sin ^{2} 2 \\phi \\cos ^{2} \\theta\\big),\n",
    "\\label{eq:d_cross}\n",
    "\\end{equation}\n",
    "\\begin{equation}\n",
    "\\left\\langle D_{+}^{2} \\right\\rangle =  \\frac{3}{2048}\\big[487+158 \\cos ^{2} \\theta+7 \\cos ^{4} \\theta -162 \\sin ^{2} 2 \\phi\\left(1+\\cos ^{2} \\theta\\right)^{2}\\big].\n",
    "\\label{eq:d_plus}\n",
    "\\end{equation}"
   ]
  },
  {
   "cell_type": "markdown",
   "id": "927a74f1-78e4-49fd-badd-009bae316792",
   "metadata": {},
   "source": [
    "In the equations above, the inclination is given by $\\iota$, the right ascension and declination are given by $\\phi$ and $\\theta$ respsectively, and the polarisation is given by $\\psi$.\n",
    "\n",
    "The orbital motion of LISA smears the source frequency by roughly $10^{-4}\\,\\rm{mHz}$ due to the antenna pattern changing as the detector orbits, the Doppler shift from the motion, and the phase modulation from the $+$ and $\\times$ polarisations in the antenna pattern. Generally, the modulation reduces the strain amplitude because the smearing in frequency reduces the amount of signal build up at the true source frequency.\n",
    "\n",
    "We note that since the orbit averaging is carried out in Fourier space, this requires the frequency to be monochromatic and thus is only implemented in `LEGWORK` for quasi-circular binaries. We also note that since the majority of the calculations in `LEGWORK` are carried out for the full position, polarisation, and inclination averages, we place a pre-factor of $5/4$ on the amplitude modulation in the software implementation to undo the factor of $4/5$ which arises from the averaging of Equations \\eqref{eq:response_fplus} and \\eqref{eq:response_fcross}."
   ]
  },
  {
   "cell_type": "markdown",
   "id": "76f5b600",
   "metadata": {},
   "source": [
    "## Sensitivity Curves (`psd`)"
   ]
  },
  {
   "cell_type": "markdown",
   "id": "1793285e",
   "metadata": {},
   "source": [
    "### LISA"
   ]
  },
  {
   "cell_type": "markdown",
   "id": "7be03cbb",
   "metadata": {},
   "source": [
    "For the LISA sensitivity curve, we follow the equations from <cite data-cite=\"Robson+2019\"></cite>, which we list here for your convenience."
   ]
  },
  {
   "cell_type": "markdown",
   "id": "34eacf95",
   "metadata": {},
   "source": [
    "The *effective* LISA noise power spectral density is defined as (<cite data-cite=\"Robson+2019\"></cite> Eq. 2)\n",
    "\\begin{equation}\n",
    "S_{\\rm n}(f) = \\frac{P_n(f)}{\\mathcal{R}(f)} + S_c(f),\n",
    "\\end{equation}"
   ]
  },
  {
   "cell_type": "markdown",
   "id": "04bd3ae0",
   "metadata": {},
   "source": [
    "where $P_{\\rm n}(f)$ is the power spectral density of the detector noise and $\\mathcal{R}(f)$ is the sky and polarisation averaged signal response function of the instrument. Alternatively if we expand out $P_n(f)$, approximate $\\mathcal{R}(f)$ and simplify we find (<cite data-cite=\"Robson+2019\"></cite> Eq. 1)"
   ]
  },
  {
   "cell_type": "markdown",
   "id": "2b4546dc",
   "metadata": {},
   "source": [
    "\\begin{equation}\n",
    "S_{\\rm n}(f) = \\frac{10}{3 L^2} \\left(P_{\\rm OMS}(f) + \\frac{4 P_{\\rm acc}(f)}{(2 \\pi f)^4} \\right) \\left(1 + \\frac{6}{10} \\left(\\frac{f}{f_*} \\right)^2 \\right) + S_c(f)\n",
    "\\label{eq:LISA_Sn}\n",
    "\\end{equation}"
   ]
  },
  {
   "cell_type": "markdown",
   "id": "8cd3ca42",
   "metadata": {},
   "source": [
    "where $L = 2.5\\,\\mathrm{Gm}$ is detector arm length, $f^* = 19.09 \\, \\mathrm{mHz}$ is the response frequency, "
   ]
  },
  {
   "cell_type": "markdown",
   "id": "e0d13003",
   "metadata": {},
   "source": [
    "\\begin{equation}\n",
    "P_{\\rm OMS}(f) = \\left(1.5 \\times 10^{-11} \\mathrm{m}\\right)^{2}\\left(1+\\left(\\frac{2 \\mathrm{mHz}}{f}\\right)^{4}\\right) \\mathrm{Hz}^{-1}\n",
    "\\end{equation}\n",
    "is the single-link optical metrology noise (<cite data-cite=\"Robson+2019\"></cite> Eq. 10),"
   ]
  },
  {
   "cell_type": "markdown",
   "id": "8db0269e",
   "metadata": {},
   "source": [
    "\\begin{equation}\n",
    "P_{\\rm acc}(f) = \\left(3 \\times 10^{-15} \\mathrm{ms}^{-2}\\right)^{2}\\left(1+\\left(\\frac{0.4 \\mathrm{mHz}}{f}\\right)^{2}\\right)\\left(1+\\left(\\frac{f}{8 \\mathrm{mHz}}\\right)^{4}\\right) \\mathrm{Hz}^{-1}\n",
    "\\end{equation}\n",
    "is the single test mass acceleration noise (<cite data-cite=\"Robson+2019\"></cite> Eq. 11) and"
   ]
  },
  {
   "cell_type": "markdown",
   "id": "7d8bcb6b",
   "metadata": {},
   "source": [
    "\\begin{equation}\n",
    "S_{c}(f)=A f^{-7 / 3} e^{-f^{\\alpha}+\\beta f \\sin (\\kappa f)}\\left[1+\\tanh \\left(\\gamma\\left(f_{k}-f\\right)\\right)\\right] \\mathrm{Hz}^{-1}\n",
    "\\end{equation}\n",
    "is the galactic confusion noise (<cite data-cite=\"Robson+2019\"></cite> Eq. 14), where the amplitude $A$ is fixed as $9 \\times 10^{-45}$ and the various parameters change over time:"
   ]
  },
  {
   "cell_type": "markdown",
   "id": "ed898b50",
   "metadata": {},
   "source": [
    "<center>\n",
    "\n",
    "| parameter | 6 months | 1 year | 2 years | 4 years|\n",
    "|:-:|:-:|:-:|:-:|:-:|\n",
    "|$\\alpha$ | 0.133 | 0.171 | 0.165 | 0.138 |\n",
    "|$\\beta$ | 243 | 292 | 299 | -221 |\n",
    "|$\\kappa$ | 482 | 1020 | 611 | 521 |\n",
    "|$\\gamma$ | 917 | 1680 | 1340 | 1680 |\n",
    "|$f_{k}$ | 0.00258 | 0.00215 | 0.00173 | 0.00113 |\n",
    "</center>"
   ]
  },
  {
   "cell_type": "markdown",
   "id": "2796c7e4",
   "metadata": {},
   "source": [
    "### TianQin"
   ]
  },
  {
   "cell_type": "markdown",
   "id": "b330acdf",
   "metadata": {},
   "source": [
    "We additionally allow other instruments than LISA. We have the TianQin sensitivity curve built in where we use the power spectral density given in <cite data-cite=\"Huang+2020\"></cite> Eq. 13."
   ]
  },
  {
   "cell_type": "markdown",
   "id": "d86b0bbf",
   "metadata": {},
   "source": [
    "\\begin{equation}\n",
    "\\begin{split}\n",
    "S_{N}(f) &= \\frac{10}{3 L^{2}}\\left[\\frac{4 S_{a}}{(2 \\pi f)^{4}}\\left(1+\\frac{10^{-4} H z}{f}\\right)+S_{x}\\right] \\\\\n",
    "& \\times\\left[1+0.6\\left(\\frac{f}{f_{*}}\\right)^{2}\\right]\n",
    "\\end{split}\n",
    "\\label{eq:tianqin}\n",
    "\\end{equation}"
   ]
  },
  {
   "cell_type": "markdown",
   "id": "2473ae67-ad80-4f4e-b30d-a9d0596cf074",
   "metadata": {},
   "source": [
    "Note that this expression includes an extra factor of 10/3 compared Eq. 13 in <cite data-cite=\"Huang+2020\"></cite>, since <cite data-cite=\"Huang+2020\"></cite> absorbs the factor into the waveform but we instead follow the same convention as <cite data-cite=\"Robson+2019\"></cite> for consistency and include it in this 'effective' PSD function instead."
   ]
  },
  {
   "cell_type": "markdown",
   "id": "a496d09e",
   "metadata": {},
   "source": [
    "## Signal-to-Noise Ratios for a 6-link (3-arm) LISA (`snr`)\n",
    "Please note that this section draws heavily from <cite data-cite=\"Flanagan+1998\"></cite> Section II C. We go through the same derivations here in more detail than in a paper and hopefully help clarify all of the different stages."
   ]
  },
  {
   "cell_type": "markdown",
   "id": "186d673d",
   "metadata": {},
   "source": [
    "### Defining the general SNR\n",
    "In order to calculate the signal to noise ratio for a given source of gravitational waves (GWs) in the LISA detector, we need to consider the following parameters:\n",
    "\n",
    "- position of the source on the sky: ($\\theta$, $\\phi$)\n",
    "- direction from the source to the detector: ($\\iota$, $\\beta$)\n",
    "- orientation of the source, which fixes the polarisation of the GW: $\\psi$\n",
    "- the distance from the source to the detector: $D_L$\n",
    "\n",
    "Then, assuming a matched filter analysis of the GW signal $s(t) + n(t)$ (where $s(t)$ is the signal and $n(t)$ is the noise), which relies on knowing the shape of the signal, the signal to noise ratio, $\\rho$, is given in the frequency domain as"
   ]
  },
  {
   "cell_type": "markdown",
   "id": "7ceba72c",
   "metadata": {},
   "source": [
    "\\begin{equation}\n",
    "\\rho^2(D_L, \\theta, \\phi, \\psi, \\iota, \\beta) = \\frac{\\langle s(t)^{\\star}s(t)\\rangle}{\\langle n(t)^{\\star}n(t)\\rangle} = 2 \\int_{-\\infty}^{+\\infty} \\frac{|\\tilde{s}(f)|^2}{P_{\\rm n}(f)} df = 4 \\int_0^{\\infty} \\frac{|\\tilde{s}(f)|^2}{P_{\\rm n}(f)} df,\n",
    "\\label{eq:snr_general_start}\n",
    "\\end{equation}"
   ]
  },
  {
   "cell_type": "markdown",
   "id": "6ea31252",
   "metadata": {},
   "source": [
    "where $\\tilde{s}(f)$ is the Fourier transform of the signal, $s(t)$, and $P_{\\rm n}(f)$ is the one sided power spectral density of the noise defined as as $\\langle n(t)^{\\star}n(t)\\rangle = \\int_0^{\\infty} \\frac{1}{2}P_{\\rm n}(f) df$ (c.f. <cite data-cite=\"Robson+2019\"></cite> Eq. 2). Here, $\\tilde{s}(f)$ is implicitly also dependent on $D_L, \\theta, \\phi, \\psi, \\iota,$ and $\\beta$ as"
   ]
  },
  {
   "cell_type": "markdown",
   "id": "cf14c21e",
   "metadata": {},
   "source": [
    "\\begin{equation}\n",
    "|\\tilde{s}(f)|^2 = |F_+(\\theta, \\phi, \\psi)\\tilde{h}_+(t, D_L, \\iota, \\beta) + F_{\\times}(\\theta, \\phi, \\psi)\\tilde{h}_{\\times}(t, D_L, \\iota, \\beta)|^2,\n",
    "\\label{eq:signal}\n",
    "\\end{equation}"
   ]
  },
  {
   "cell_type": "markdown",
   "id": "fa4b7cc3",
   "metadata": {},
   "source": [
    "where $F_{+,\\times}$ are the 'plus' and 'cross' antenna patterns of the LISA detector to the 'plus' and 'cross' strains, $h_{+,\\times}$. Note throughout any parameters discussed with the subscript $x_{+,\\times}$ refers to both $x_{+}$ and $x_{\\times}$.\n",
    "\n",
    "In LISA's case, when averaged over all angles and polarisations, the antenna patterns are orthogonal thus $\\langle F_+ F_{\\times}\\rangle = 0$. This means we can rewrite Eq. \\ref{eq:signal} as "
   ]
  },
  {
   "cell_type": "markdown",
   "id": "a75dd19c",
   "metadata": {},
   "source": [
    "\\begin{equation}\n",
    "|\\tilde{s}(f)|^2 = |F_+(\\theta, \\phi, \\psi)\\tilde{h}_+(t, D_L, \\iota, \\beta)|^2 + |F_{\\times}(\\theta, \\phi, \\psi)\\tilde{h}_{\\times}(t, D_L, \\iota, \\beta)|^2,\n",
    "\\end{equation} "
   ]
  },
  {
   "cell_type": "markdown",
   "id": "261eb28d",
   "metadata": {},
   "source": [
    "which can then be applied to Eq. \\eqref{eq:snr_general_start} as"
   ]
  },
  {
   "cell_type": "markdown",
   "id": "927aea0b",
   "metadata": {},
   "source": [
    "\\begin{equation}\n",
    "\\rho^2(D_L, \\theta, \\phi, \\psi, \\iota, \\beta) = 4 \\int_0^{\\infty} \\frac{|F_+\\tilde{h}_+|^2 + |F_{\\times}\\tilde{h}_{\\times}|^2}{P_{\\rm n}(f)} df.\n",
    "\\label{eq:snr_general_simpler}\n",
    "\\end{equation}"
   ]
  },
  {
   "cell_type": "markdown",
   "id": "5448f843",
   "metadata": {},
   "source": [
    "### Average over position and polarisation"
   ]
  },
  {
   "cell_type": "markdown",
   "id": "25170550",
   "metadata": {},
   "source": [
    "Now, we can consider averaging over different quantities. In particular, we can average over the sky position and polarisation as"
   ]
  },
  {
   "cell_type": "markdown",
   "id": "389f5d54",
   "metadata": {},
   "source": [
    "\\begin{equation}\n",
    "\\label{eq:position_orientation_ave}\n",
    "\\langle \\rho \\rangle^2_{\\theta,\\phi,\\psi} = 4 \\int_0^{\\infty} df \\int \\frac{d\\Omega_{\\theta,\\phi}}{4\\pi} \\int \\frac{d\\psi}{\\pi} \\frac{|F_+(\\theta,\\phi,\\psi)\\,\\tilde{h}_+(\\iota,\\beta)|^2 + |F_{\\times}(\\theta,\\phi,\\psi)\\,\\tilde{h}_{\\times}(\\iota,\\beta)|^2}{P_{\\rm n}(f)}.\n",
    "\\end{equation}"
   ]
  },
  {
   "cell_type": "markdown",
   "id": "502bbfb5",
   "metadata": {},
   "source": [
    "From <cite data-cite=\"Robson+2019\"></cite>, we can write the position and polarisation average of the signal response function of the instrument, $\\mathcal{R}$, as"
   ]
  },
  {
   "cell_type": "markdown",
   "id": "e31fe135",
   "metadata": {},
   "source": [
    "\\begin{equation}\n",
    "\\label{eq:response}\n",
    "\\mathcal{R} = \\langle F_+F^{\\star}_+ \\rangle = \\langle F_{\\times}F^{\\star}_{\\times} \\rangle, \\,\\,\\rm{where}\\,\\,\n",
    "\\langle F_{+,\\times}F^{\\star}_{+,\\times} \\rangle = \\int \\frac{d\\Omega_{\\theta,\\phi}}{4 \\pi} \\int \\frac{d\\psi}{\\pi} |F_{+,\\times}|^2.\n",
    "\\end{equation}"
   ]
  },
  {
   "cell_type": "markdown",
   "id": "2668e2ed",
   "metadata": {},
   "source": [
    "Then combining Eq. \\eqref{eq:position_orientation_ave} and Eq. \\eqref{eq:response}, we then find"
   ]
  },
  {
   "cell_type": "markdown",
   "id": "bce302b8",
   "metadata": {},
   "source": [
    "\\begin{equation}\n",
    "\\label{eq:averaged_antenna_simp}\n",
    "\\langle \\rho \\rangle^2_{\\theta,\\phi,\\psi} = 4 \\int_0^{\\infty} df \\mathcal{R}(f)\\, \\left(\\frac{|\\tilde{h}_+|^2 + |\\tilde{h}_{\\times}|^2}{P_{\\rm n}(f)}\\right)\n",
    "\\end{equation}"
   ]
  },
  {
   "cell_type": "markdown",
   "id": "425b0926",
   "metadata": {},
   "source": [
    "Note that this is written in <cite data-cite=\"Flanagan+1998\"></cite> for the LIGO response function which is $\\mathcal{R} = \\langle F_{+,\\times} \\rangle ^2 = 1/5$."
   ]
  },
  {
   "cell_type": "markdown",
   "id": "f26fb4de",
   "metadata": {},
   "source": [
    "### Average over orientation"
   ]
  },
  {
   "cell_type": "markdown",
   "id": "8340a3ec",
   "metadata": {},
   "source": [
    "Now, we can average over the orientation of the source: $(\\iota, \\beta)$, noting that the averaging is independent of the distance $D_L$. Then we can rewrite $|\\tilde{h}_+|^2 + |\\tilde{h}_{\\times}|^2$ in terms of two functions $|\\tilde{H}_+|^2$  and  $|\\tilde{H}_{\\times}|^2$, where $\\tilde{h}_{+,\\times} = \\tilde{H}_{+,\\times}/D_L$. Then, averaging over the source direction gives"
   ]
  },
  {
   "cell_type": "markdown",
   "id": "473a99a3",
   "metadata": {},
   "source": [
    "\\begin{equation}\n",
    "\\label{eq:averaged_all}\n",
    "\\langle \\rho \\rangle^2_{(\\theta,\\phi,\\psi),(\\iota,\\beta)} = \\frac{4}{D_L^2} \\int_0^{\\infty} df \\mathcal{R}(f)\\,\\int \\frac{d\\Omega_{\\iota,\\beta}}{4 \\pi} \\frac{|\\tilde{H}_+|^2 + |\\tilde{H}_{\\times}|^2}{P_{\\rm n}(f)},\n",
    "\\end{equation}"
   ]
  },
  {
   "cell_type": "markdown",
   "id": "227dce84",
   "metadata": {},
   "source": [
    "where we would like to express $\\tilde{H}_{+,\\times}(f)^2$ in terms of the energy spectrum of the GW. To do this, we note that the local energy flux of GWs at the detector is given by (e.g. <cite data-cite=\"Press&Thorne1972\"></cite> Eq. 6)"
   ]
  },
  {
   "cell_type": "markdown",
   "id": "7e15669f",
   "metadata": {},
   "source": [
    "\\begin{equation}\n",
    "\\label{eq:energy_flx}\n",
    "\\frac{dE}{dAdt} = \\frac{1}{16\\pi} \\overline{\\left[\\left(\\frac{dh_{+}}{dt}\\right)^2 + \\left(\\frac{dh_{\\times}}{dt}\\right)^2\\right]},\n",
    "\\end{equation}"
   ]
  },
  {
   "cell_type": "markdown",
   "id": "c697813f",
   "metadata": {},
   "source": [
    "where the bar indicates an average over several cycles of the wave which is appropriate for LISA sources. We can transform Eq. \\eqref{eq:energy_flx} using Parseval's theorem, where we can write"
   ]
  },
  {
   "cell_type": "markdown",
   "id": "34335939",
   "metadata": {},
   "source": [
    "\\begin{align}\n",
    "\\int_{-\\infty}^{+\\infty}dt\\int dA \\frac{dE}{dAdt} & = \\int_{-\\infty}^{+\\infty}dt\\int dA \\frac{1}{16\\pi} \\overline{\\left[\\left(\\frac{dh_{+}}{dt}\\right)^2 + \\left(\\frac{dh_{\\times}}{dt}\\right)^2\\right]} \\\\\n",
    "& = \\int_{-\\infty}^{+\\infty}df \\int dA \\frac{1}{16\\pi} \\Big[\\big((-2\\pi if)|\\tilde{h}_{+}|\\big)^2 + \\big((-2\\pi if)|\\tilde{h}_{\\times}|\\big)^2\\Big] \\\\\n",
    "& = \\int_{-\\infty}^{+\\infty}df \\int dA \\frac{1}{16\\pi} (2\\pi f)^2 \\left(|\\tilde{h}_{+}|^2 + |\\tilde{h}_{\\times}|^2 \\right) \\\\\n",
    "& = \\int_{-\\infty}^{+\\infty}df \\int dA \\frac{\\pi f^2}{4} \\left(|\\tilde{h}_{+}|^2 + |\\tilde{h}_{\\times}|^2 \\right) \\\\\n",
    "& = \\int_{0}^{\\infty}df \\int dA \\frac{\\pi f^2}{2} \\left(|\\tilde{h}_{+}|^2 + |\\tilde{h}_{\\times}|^2 \\right).\n",
    "\\label{eq:Parseval}\n",
    "\\end{align}"
   ]
  },
  {
   "cell_type": "markdown",
   "id": "9220d1fa",
   "metadata": {},
   "source": [
    "Note that we perform a Fourier transform of the square of the time derivatives in the second line. Now, since $A = D_L^2 \\Omega$ and $|\\tilde{h}_{+,\\times}|^2 = |\\tilde{H}_{+,\\times}|^2 / D_L^2$, we know"
   ]
  },
  {
   "cell_type": "markdown",
   "id": "0a258d0b",
   "metadata": {},
   "source": [
    "\\begin{equation}\n",
    "\\label{eq:little_h_to_big}\n",
    "|\\tilde{h}_{+,\\times}|^2 dA = |\\tilde{H}_{+,\\times}|^2 d\\Omega_{\\iota,\\beta},\n",
    "\\end{equation}"
   ]
  },
  {
   "cell_type": "markdown",
   "id": "3a78920e",
   "metadata": {},
   "source": [
    "then we can write Eq. \\eqref{eq:Parseval} in terms of $|H_{+,\\times}|^2$ as "
   ]
  },
  {
   "cell_type": "markdown",
   "id": "89dacd1c",
   "metadata": {},
   "source": [
    "\\begin{align}\n",
    "\\int_{-\\infty}^{+\\infty}dt\\int dA \\frac{dE}{dAdt} & = \\int_{0}^{\\infty}df \\int dA \\frac{\\pi f^2}{2} \\left(|\\tilde{h}_{+}|^2 + |\\tilde{h}_{\\times}|^2 \\right) \\\\\n",
    "& = \\int_{0}^{\\infty}df \\frac{\\pi f^2}{2} \\int d\\Omega \\left(|\\tilde{H}_{+}|^2 + |\\tilde{H}_{\\times}|^2 \\right).\n",
    "\\label{eq:Parseval_2}\n",
    "\\end{align}"
   ]
  },
  {
   "cell_type": "markdown",
   "id": "bed293ff",
   "metadata": {},
   "source": [
    "We can note that by using Eq. \\eqref{eq:little_h_to_big} and performing a Fourier transform we also have that"
   ]
  },
  {
   "cell_type": "markdown",
   "id": "cb542075",
   "metadata": {},
   "source": [
    "\\begin{equation}\n",
    "\\int_{-\\infty}^{+\\infty}dt\\int dA \\frac{dE}{dAdt} = \\int_{0}^{\\infty}df \\int d\\Omega \\frac{dE}{d\\Omega df}.\n",
    "\\label{eq:deriv_relation}\n",
    "\\end{equation}"
   ]
  },
  {
   "cell_type": "markdown",
   "id": "e82dd76d",
   "metadata": {},
   "source": [
    "From inspection of Eq. \\eqref{eq:Parseval_2} and Eq. \\eqref{eq:deriv_relation}, we can write the spectral energy flux as"
   ]
  },
  {
   "cell_type": "markdown",
   "id": "6da6bf39",
   "metadata": {},
   "source": [
    "\\begin{equation}\n",
    "\\int d\\Omega \\frac{dE}{d\\Omega df} = \\frac{\\pi f^2}{2} \\int d\\Omega \\left(|\\tilde{H}_{+}|^2 + |\\tilde{H}_{\\times}|^2 \\right) .\n",
    "\\label{eq:se_flux}\n",
    "\\end{equation}"
   ]
  },
  {
   "cell_type": "markdown",
   "id": "c199681b",
   "metadata": {},
   "source": [
    "### Fully averaged SNR equation"
   ]
  },
  {
   "cell_type": "markdown",
   "id": "f61383ae",
   "metadata": {},
   "source": [
    "We are now in a position to write an expression for the fully averaged SNR. Let's take Eq. \\eqref{eq:se_flux} and apply it to Eq. \\eqref{eq:averaged_all}"
   ]
  },
  {
   "cell_type": "markdown",
   "id": "6d147bf5",
   "metadata": {},
   "source": [
    "\\begin{equation}\n",
    "\\langle \\rho \\rangle^2_{(\\theta,\\phi,\\psi),(\\iota,\\beta)} = \\frac{4}{D_L^2} \\int_0^{\\infty} df \\frac{1}{P_{\\rm n}(f)/\\mathcal{R}(f)} \\int \\frac{d\\Omega}{4\\pi} \\frac{dE}{d\\Omega df} \\frac{2}{\\pi f^2}.\n",
    "\\end{equation}"
   ]
  },
  {
   "cell_type": "markdown",
   "id": "be63ce02",
   "metadata": {},
   "source": [
    "This simplifies nicely to "
   ]
  },
  {
   "cell_type": "markdown",
   "id": "89a6d00f",
   "metadata": {},
   "source": [
    "\\begin{equation}\n",
    "\\langle \\rho \\rangle^2 = \\frac{2}{(\\pi D_L)^2}\\int_0^{\\infty}df \\frac{dE}{df}\\frac{1}{f^2 P_{\\rm n}(f)/\\mathcal{R}(f)}.\n",
    "\\end{equation}"
   ]
  },
  {
   "cell_type": "markdown",
   "id": "888c86d3",
   "metadata": {},
   "source": [
    "Finally, noting that $dE/df = dE/dt \\times dt/df = \\dot{E}/\\dot{f}$, we can use the definition of the characteristic strain from Eq. \\eqref{eq:char_strain_dedf} (and use $c=G=1$),"
   ]
  },
  {
   "cell_type": "markdown",
   "id": "35639d02",
   "metadata": {},
   "source": [
    "\\begin{equation}\n",
    "h_{c}^2 = \\frac{1}{(\\pi D_L)^2} \\left(\\frac{2\\dot{E}}{\\dot{f}}\\right),\n",
    "\\end{equation}"
   ]
  },
  {
   "cell_type": "markdown",
   "id": "4873a278",
   "metadata": {},
   "source": [
    "to finish up our position, direction, and orientation/polarisation averaged SNR as"
   ]
  },
  {
   "cell_type": "markdown",
   "id": "88af3179",
   "metadata": {},
   "source": [
    "\\begin{equation}\n",
    "\\langle \\rho \\rangle^2_{(\\theta,\\phi,\\psi),(\\iota,\\beta)} = \\int_0^{\\infty}df \\frac{h_{c}^2}{f^2P_{\\rm n}(f)/\\mathcal{R}(f)} = \\int_0^{\\infty}df \\frac{h_{c}^2}{f^2 S_{\\rm n}(f)},\n",
    "\\label{eq:snr_finished_circ}\n",
    "\\end{equation}"
   ]
  },
  {
   "cell_type": "markdown",
   "id": "5b315113",
   "metadata": {},
   "source": [
    "where we have used that the effective power spectral density of the noise is defined as $S_{\\rm n}(f) = P_{\\rm n}(f) / \\mathcal{R}(f)$. Note that this defintion is the sensitivity for a 6-link (3-arm) LISA detector in the long wavelength limit,  which is appropriate for stellar mass binary LISA sources.\n",
    "\n",
    "It is also important to note that this is only the SNR for a circular binary for which we need only consider the $n = 2$ harmonic. In the general case, a binary could be eccentric and requires a sum over *all* harmonics. Thus we can generalise Eq. \\eqref{eq:snr_finished_circ} to eccentric binaries with"
   ]
  },
  {
   "cell_type": "markdown",
   "id": "877bccbc",
   "metadata": {},
   "source": [
    "\\begin{equation}\n",
    "\\langle \\rho \\rangle^2_{(\\theta,\\phi,\\psi),(\\iota,\\beta)} = \\sum_{n = 1}^{\\infty} \\langle \\rho_n \\rangle^2_{(\\theta,\\phi,\\psi),(\\iota,\\beta)} = \\sum_{n = 1}^{\\infty} \\int_0^{\\infty} d f_n \\frac{h_{c, n}^2}{f_n^2 S_{\\rm n}(f_n)},\n",
    "\\label{eq:snr_general}\n",
    "\\end{equation}"
   ]
  },
  {
   "cell_type": "markdown",
   "id": "b4bba417",
   "metadata": {},
   "source": [
    "where $f_n = n \\cdot f_{\\rm orb}$ (with $n$ being the harmonic and $f_{\\rm orb}$ the orbital frequency), $h_{c, n}$ is defined in Eq. \\eqref{eq:char_strain} and $S_{\\rm n}$ in Eq. \\eqref{eq:LISA_Sn}."
   ]
  },
  {
   "cell_type": "markdown",
   "id": "6519ec4c",
   "metadata": {},
   "source": [
    "### Different SNR approximations"
   ]
  },
  {
   "cell_type": "markdown",
   "id": "c365164e",
   "metadata": {},
   "source": [
    "Although Eq. \\eqref{eq:snr_general} can be used for every binary, it can be useful to consider different cases in which we can avoid unnecessary sums and integrals. There are four possible cases for binaries in which we can use increasingly simple expressions for the signal-to-noise ratio. Binaries can be circular and stationary in frequency space.\n",
    "\n",
    "- Circular binaries emit only in the $n=2$ harmonic and so the sum over harmonics can be removed\n",
    "- Stationary binaries have $f_{n, i} \\approx f_{n, f}$ and so the small interval allows one to approximate the integral\n",
    "\n",
    "We refer to non-stationary binaries as 'evolving' here though many also use 'chirping'.\n",
    "\n",
    "For an evolving and eccentric binary, no approximation can be made and the SNR is found using Eq. \\eqref{eq:snr_general}.\n",
    "\n",
    "For an evolving and circular binary, the sum can be removed and so the SNR found as"
   ]
  },
  {
   "cell_type": "markdown",
   "id": "d871f0d7",
   "metadata": {},
   "source": [
    "\\begin{equation}\n",
    "\\rho^2_{\\rm circ, evol} = \\int_{f_{2, i}}^{f_{2, f}} \\frac{h_{c, 2}^2}{f_2^2 S_{\\rm n}(f_2)} \\mathrm{d}{f}\n",
    "\\label{eq:snr_chirp_circ}\n",
    "\\end{equation}"
   ]
  },
  {
   "cell_type": "markdown",
   "id": "e36b69d7",
   "metadata": {},
   "source": [
    "For a stationary and eccentric binary we can approximate the integral."
   ]
  },
  {
   "cell_type": "markdown",
   "id": "12ddb579",
   "metadata": {},
   "source": [
    "\\begin{align}\n",
    "\\rho^2_{\\rm ecc, stat} &= \\sum_{n=1}^{\\infty}  \\lim_{\\Delta f \\to 0} \\int_{f_{n}}^{f_{n} + \\Delta f_n} \\frac{h_{c, n}^2}{f_n^2 S_{\\rm n}(f_n)} \\mathrm{d}{f_n}, \\\\\n",
    "&= \\sum_{n=1}^{\\infty} \\frac{\\Delta f_n \\cdot h_{c, n}^2}{f_n^2 S_{\\rm n}(f_n)}, \\\\\n",
    "&= \\sum_{n=1}^{\\infty} \\frac{\\dot{f}_n \\Delta T \\cdot h_{c, n}^2}{f_n^2 S_{\\rm n}(f_n)}, \\\\\n",
    "&= \\sum_{n=1}^{\\infty} \\left(\\frac{\\dot{f}_n}{f_n^2} h_{c, n}^2 \\right) \\frac{T_{\\rm obs}}{S_{\\rm n}(f_n)}, \\\\\n",
    "\\rho^2_{\\rm ecc, stat} &= \\sum_{n=1}^{\\infty} \\frac{h_{n}^2 T_{\\rm obs}}{S_{\\rm n}(f_n)},\n",
    "\\label{eq:snr_stat_ecc}\n",
    "\\end{align}"
   ]
  },
  {
   "cell_type": "markdown",
   "id": "c39ed892",
   "metadata": {},
   "source": [
    "where we have applied Eq. \\eqref{eq:strain-charstrain} to convert between strains and labelled $\\Delta t = T_{\\rm obs}$. Finally, for a stationary and circular binary the signal-to-noise ratio is simply"
   ]
  },
  {
   "cell_type": "markdown",
   "id": "db785952",
   "metadata": {},
   "source": [
    "\\begin{equation}\n",
    "\\rho^2_{\\rm circ, stat} = \\frac{h_2^2 T_{\\rm obs}}{S_{\\rm n}(f_2)}\n",
    "\\label{eq:snr_stat_circ}\n",
    "\\end{equation}"
   ]
  },
  {
   "cell_type": "markdown",
   "id": "1812a76b",
   "metadata": {},
   "source": [
    "That's all for the derivations of the equations! If you are confused by something or think there is a mistake please feel free to [open an issue](https://github.com/TeamLEGWORK/LEGWORK/issues/new) on GitHub.\n",
    "\n",
    "Continue reading for the function table and references!"
   ]
  },
  {
   "cell_type": "markdown",
   "id": "a746bd1c",
   "metadata": {},
   "source": [
    "## Equation to Function Table\n",
    "The following table gives a list of the functions in the modules and which equation numbers in this document that they come from."
   ]
  },
  {
   "cell_type": "markdown",
   "id": "da86ebe8",
   "metadata": {},
   "source": [
    "| Quantity | Equation | Function |\n",
    "|:--------:|:--------:|:--------:|\n",
    "|$\\mathcal{M}_c$ | \\ref{eq:chirpmass} | [legwork.utils.chirp_mass()](../api/legwork.utils.chirp_mass.rst) |\n",
    "|$a$ | \\ref{eq:kepler3rd} | [legwork.utils.get_a_from_forb()](../api/legwork.utils.get_a_from_f_orb.rst) |\n",
    "|$f_{\\rm orb}$ | \\ref{eq:kepler3rd} | [legwork.utils.get_forb_from_a()](../api/legwork.utils.get_f_orb_from_a.rst) |\n",
    "|$g(n, e)$ | \\ref{eq:g(n,e)} | [legwork.utils.peters_g()](../api/legwork.utils.peters_g.rst) |\n",
    "|$F(e)$ | \\ref{eq:eccentricity_enhancement_factor} | [legwork.utils.peters_f()](../api/legwork.utils.peters_f.rst) |\n",
    "|$\\beta$ | \\ref{eq:beta_peters} | [legwork.utils.beta()](../api/legwork.utils.beta.rst) |\n",
    "|$a_{\\rm circ}(t), f_{\\rm orb, circ}(t)$ | \\ref{eq:a_over_time_circ} | [legwork.evol.evol_circ()](../api/legwork.evol.evol_circ.rst) |\n",
    "|$t_{\\rm merge, circ}$ | \\ref{eq:t_merge_circular} | [legwork.evol.get_t_merge_circ()](../api/legwork.evol.get_t_merge_circ.rst) |\n",
    "|$e(t), a(t), f_{\\rm orb}(t)$ | \\ref{eq:dedt} | [legwork.evol.evol_ecc()](../api/legwork.evol.evol_ecc.rst) |\n",
    "|$t_{\\rm merge}$ | \\ref{eq:t_merge_eccentric} | [legwork.evol.get_t_merge_ecc()](../api/legwork.evol.get_t_merge_ecc.rst) |\n",
    "|$h_{c,n}$ | \\ref{eq:char_strain} | [legwork.strain.h_c_n()](../api/legwork.strain.h_c_n.rst) |\n",
    "|$h_n$ | \\ref{eq:strain} | [legwork.strain.h_0_n()](../api/legwork.strain.h_0_n.rst) |\n",
    "|$S_{\\rm n}(f)$ | \\ref{eq:LISA_Sn} | [legwork.psd.power_spectral_density()](../api/legwork.psd.power_spectral_density.rst) |\n",
    "|$\\rho$ | \\ref{eq:snr_general} | [legwork.source.Source.get_snr()](../api/legwork.source.Source.rst#legwork.source.Source.get_snr) |\n",
    "|$\\rho_{\\rm e, e}$ | \\ref{eq:snr_general}  | [legwork.snr.snr_ecc_evolving()](../api/legwork.snr.snr_ecc_evolving.rst) |\n",
    "|$\\rho_{\\rm c, e}$ | \\ref{eq:snr_chirp_circ}  | [legwork.snr.snr_circ_evolving()](../api/legwork.snr.snr_circ_evolving.rst) |\n",
    "|$\\rho_{\\rm e, s}$ | \\ref{eq:snr_stat_ecc} | [legwork.snr.snr_ecc_stationary()](../api/legwork.snr.snr_ecc_stationary.rst) |\n",
    "|$\\rho_{\\rm c, s}$ | \\ref{eq:snr_stat_circ} | [legwork.snr.snr_circ_stationary()](../api/legwork.snr.snr_circ_stationary.rst) |"
   ]
  },
  {
   "cell_type": "markdown",
   "id": "c2a8c659",
   "metadata": {},
   "source": [
    "## References"
   ]
  },
  {
   "cell_type": "raw",
   "id": "220f9124-7a27-4fce-a0f3-f56ca070f885",
   "metadata": {
    "raw_mimetype": "text/restructuredtext",
    "tags": []
   },
   "source": [
    ".. bibliography::"
   ]
  }
 ],
 "metadata": {
  "kernelspec": {
   "display_name": "Python 3 (ipykernel)",
   "language": "python",
   "name": "python3"
  },
  "language_info": {
   "codemirror_mode": {
    "name": "ipython",
    "version": 3
   },
   "file_extension": ".py",
   "mimetype": "text/x-python",
   "name": "python",
   "nbconvert_exporter": "python",
   "pygments_lexer": "ipython3",
   "version": "3.8.12"
  }
 },
 "nbformat": 4,
 "nbformat_minor": 5
}
