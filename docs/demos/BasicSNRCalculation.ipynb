{
 "cells": [
  {
   "cell_type": "markdown",
   "id": "1b560b6f-2e70-4491-a1db-0025d86a7e78",
   "metadata": {},
   "source": [
    "# Demo - Basic SNR Calculation\n",
    "\n",
    "This demo shows how you can use `LEGWORK` to compute the SNR of a single binary system, as well as a collection of systems."
   ]
  },
  {
   "cell_type": "code",
   "execution_count": 1,
   "id": "5cc5c5b6-3395-41b6-83eb-b96d8490461c",
   "metadata": {},
   "outputs": [],
   "source": [
    "import legwork as lw\n",
    "import astropy.units as u"
   ]
  },
  {
   "cell_type": "markdown",
   "id": "9182759e-b0f0-4d16-ad5f-3abc47e58f39",
   "metadata": {},
   "source": [
    "## Single source SNR calculation\n",
    "\n",
    "The most basic use case of LEGWORK is to calculate the signal-to-noise ratio for a single stellar-mass binary system. Let's create a toy source and calculate its SNR."
   ]
  },
  {
   "cell_type": "code",
   "execution_count": 2,
   "id": "3907389b-feb8-41ae-a0e8-b4dee78c7b70",
   "metadata": {
    "tags": []
   },
   "outputs": [
    {
     "data": {
      "text/plain": [
       "array([4.49])"
      ]
     },
     "execution_count": 2,
     "metadata": {},
     "output_type": "execute_result"
    }
   ],
   "source": [
    "source = lw.source.Source(m_1=10 * u.Msun,\n",
    "                          m_2=10 * u.Msun,\n",
    "                          ecc=0.2,\n",
    "                          f_orb=1e-4 * u.Hz,\n",
    "                          dist=8 * u.kpc)\n",
    "source.get_snr().round(2)"
   ]
  },
  {
   "cell_type": "markdown",
   "id": "f039d857-70ca-42ce-9fb5-acaaf92fc9a0",
   "metadata": {},
   "source": [
    "That's it! Behind the scenes LEGWORK has checked whether the source is eccentric/circular and evolving/stationary and picked the fastest possible way to calculate the SNR accurately."
   ]
  },
  {
   "cell_type": "markdown",
   "id": "e609e425-2061-4cd7-92a6-6883b780af2c",
   "metadata": {},
   "source": [
    "## Population of sources SNR calculation\n",
    "If we want to know the SNR of three (or any number of) sources then you can instead provide arrays for each of the arguments and execute the code in exactly the same way."
   ]
  },
  {
   "cell_type": "code",
   "execution_count": 3,
   "id": "228ee920-14c5-46f9-bd14-2d5f47c16933",
   "metadata": {},
   "outputs": [
    {
     "data": {
      "text/plain": [
       "array([2.47, 4.49, 7.85])"
      ]
     },
     "execution_count": 3,
     "metadata": {},
     "output_type": "execute_result"
    }
   ],
   "source": [
    "# supply arrays that are identical to earlier example but different primary masses\n",
    "sources = lw.source.Source(m_1=[5, 10, 20] * u.Msun,\n",
    "                           m_2=[10, 10, 10] * u.Msun,\n",
    "                           ecc=[0.2, 0.2, 0.2],\n",
    "                           f_orb=[1e-4, 1e-4, 1e-4] * u.Hz,\n",
    "                           dist=[8, 8, 8] * u.kpc)\n",
    "\n",
    "sources.get_snr().round(2)"
   ]
  }
 ],
 "metadata": {
  "kernelspec": {
   "display_name": "Python 3 (ipykernel)",
   "language": "python",
   "name": "python3"
  },
  "language_info": {
   "codemirror_mode": {
    "name": "ipython",
    "version": 3
   },
   "file_extension": ".py",
   "mimetype": "text/x-python",
   "name": "python",
   "nbconvert_exporter": "python",
   "pygments_lexer": "ipython3",
   "version": "3.8.5"
  }
 },
 "nbformat": 4,
 "nbformat_minor": 5
}
