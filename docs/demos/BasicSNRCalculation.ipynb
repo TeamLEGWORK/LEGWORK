{
 "cells": [
  {
   "cell_type": "markdown",
   "id": "1b560b6f-2e70-4491-a1db-0025d86a7e78",
   "metadata": {},
   "source": [
    "# Demo - Basic SNR Calculation\n",
    "\n",
    "This demo shows how you can use `LEGWORK` to compute the SNR of a single binary system, as well as a collection of systems."
   ]
  },
  {
   "cell_type": "code",
   "execution_count": 1,
   "id": "01268bd2-b340-4495-a7eb-88daf0641ec6",
   "metadata": {
    "tags": [
     "hide_input"
    ]
   },
   "outputs": [],
   "source": [
    "%matplotlib inline"
   ]
  },
  {
   "cell_type": "code",
   "execution_count": 4,
   "id": "5cc5c5b6-3395-41b6-83eb-b96d8490461c",
   "metadata": {},
   "outputs": [],
   "source": [
    "import legwork as lw\n",
    "import numpy as np\n",
    "import astropy.units as u\n",
    "import matplotlib.pyplot as plt"
   ]
  },
  {
   "cell_type": "code",
   "execution_count": 3,
   "id": "add23e6e-3741-4395-947c-f7de5539bf6e",
   "metadata": {
    "tags": [
     "hide_input"
    ]
   },
   "outputs": [],
   "source": [
    "%config InlineBackend.figure_format = 'retina'\n",
    "\n",
    "plt.rc('font', family='serif')\n",
    "plt.rcParams['text.usetex'] = False\n",
    "fs = 24\n",
    "\n",
    "# update various fontsizes to match\n",
    "params = {'figure.figsize': (12, 8),\n",
    "          'legend.fontsize': fs,\n",
    "          'axes.labelsize': fs,\n",
    "          'xtick.labelsize': 0.7 * fs,\n",
    "          'ytick.labelsize': 0.7 * fs}\n",
    "plt.rcParams.update(params)"
   ]
  },
  {
   "cell_type": "markdown",
   "id": "9182759e-b0f0-4d16-ad5f-3abc47e58f39",
   "metadata": {},
   "source": [
    "## Single source SNR calculation\n",
    "\n",
    "The most basic use case of LEGWORK is to calculate the signal-to-noise ratio for a single stellar-mass binary system. Let's create a toy source and calculate its SNR."
   ]
  },
  {
   "cell_type": "code",
   "execution_count": 24,
   "id": "3907389b-feb8-41ae-a0e8-b4dee78c7b70",
   "metadata": {
    "tags": []
   },
   "outputs": [],
   "source": [
    "source = lw.source.Source(m_1=10 * u.Msun,\n",
    "                          m_2=10 * u.Msun,\n",
    "                          ecc=0.2,\n",
    "                          f_orb=1e-4 * u.Hz,\n",
    "                          dist=8 * u.kpc,\n",
    "                          interpolate_g=False)"
   ]
  },
  {
   "cell_type": "code",
   "execution_count": 25,
   "id": "e7d81843-25fc-4f5e-8744-a9e4b53e9786",
   "metadata": {},
   "outputs": [
    {
     "data": {
      "text/plain": [
       "array([4.49425701])"
      ]
     },
     "execution_count": 25,
     "metadata": {},
     "output_type": "execute_result"
    }
   ],
   "source": [
    "source.get_snr()"
   ]
  },
  {
   "cell_type": "markdown",
   "id": "f039d857-70ca-42ce-9fb5-acaaf92fc9a0",
   "metadata": {},
   "source": [
    "That's it! Behind the scenes LEGWORK has checked whether the source is eccentric/circular and evolving/stationary and picked the fastest possible way to calculate the SNR accurately."
   ]
  },
  {
   "cell_type": "markdown",
   "id": "e609e425-2061-4cd7-92a6-6883b780af2c",
   "metadata": {},
   "source": [
    "## Population of sources SNR calculation"
   ]
  },
  {
   "cell_type": "code",
   "execution_count": 27,
   "id": "228ee920-14c5-46f9-bd14-2d5f47c16933",
   "metadata": {},
   "outputs": [],
   "source": [
    "n = 10\n",
    "sources = lw.source.Source(m_1=np.random.uniform(0, 10, n) * u.Msun,\n",
    "                          m_2=np.random.uniform(0, 10, n) * u.Msun,\n",
    "                          ecc=np.random.uniform(0, 0.95, n),\n",
    "                          f_orb=10**np.random.uniform(-5, -3, n) * u.Hz,\n",
    "                          dist=np.random.uniform(0, 20, n) * u.kpc)"
   ]
  },
  {
   "cell_type": "code",
   "execution_count": 37,
   "id": "c5bb7bad-cc00-4827-ba94-d1f35fbe8cb2",
   "metadata": {},
   "outputs": [
    {
     "name": "stdout",
     "output_type": "stream",
     "text": [
      " lsoda--  warning..internal t (=r1) and h (=r2) are\u0000\u0000\n",
      "       such that in the machine, t + h = t on the next step  \n",
      "       (h = step size). solver will continue anyway\u0000\u0000\n",
      "      in above,  r1 =  0.6777051652905D+12   r2 =  0.1835960859669D-04\n",
      " lsoda--  warning..internal t (=r1) and h (=r2) are\u0000\u0000\n",
      "       such that in the machine, t + h = t on the next step  \n",
      "       (h = step size). solver will continue anyway\u0000\u0000\n",
      "      in above,  r1 =  0.6777051652905D+12   r2 =  0.1835960859669D-04\n",
      " lsoda--  warning..internal t (=r1) and h (=r2) are\u0000\u0000\n",
      "       such that in the machine, t + h = t on the next step  \n",
      "       (h = step size). solver will continue anyway\u0000\u0000\n",
      "      in above,  r1 =  0.6777051652905D+12   r2 =  0.1547675867255D-04\n",
      " lsoda--  warning..internal t (=r1) and h (=r2) are\u0000\u0000\n",
      "       such that in the machine, t + h = t on the next step  \n",
      "       (h = step size). solver will continue anyway\u0000\u0000\n",
      "      in above,  r1 =  0.6777051652905D+12   r2 =  0.3869189668136D-05\n",
      " lsoda--  warning..internal t (=r1) and h (=r2) are\u0000\u0000\n",
      "       such that in the machine, t + h = t on the next step  \n",
      "       (h = step size). solver will continue anyway\u0000\u0000\n",
      "      in above,  r1 =  0.6777051652905D+12   r2 =  0.3869189668136D-05\n",
      " lsoda--  warning..internal t (=r1) and h (=r2) are\u0000\u0000\n",
      "       such that in the machine, t + h = t on the next step  \n",
      "       (h = step size). solver will continue anyway\u0000\u0000\n",
      "      in above,  r1 =  0.6777051652905D+12   r2 =  0.3216154914133D-05\n",
      " lsoda--  warning..internal t (=r1) and h (=r2) are\u0000\u0000\n",
      "       such that in the machine, t + h = t on the next step  \n",
      "       (h = step size). solver will continue anyway\u0000\u0000\n",
      "      in above,  r1 =  0.6777051652905D+12   r2 =  0.3606544461879D-05\n",
      " lsoda--  warning..internal t (=r1) and h (=r2) are\u0000\u0000\n",
      "       such that in the machine, t + h = t on the next step  \n",
      "       (h = step size). solver will continue anyway\u0000\u0000\n",
      "      in above,  r1 =  0.6777051652905D+12   r2 =  0.3606544461879D-05\n",
      " lsoda--  warning..internal t (=r1) and h (=r2) are\u0000\u0000\n",
      "       such that in the machine, t + h = t on the next step  \n",
      "       (h = step size). solver will continue anyway\u0000\u0000\n",
      "      in above,  r1 =  0.6777051652905D+12   r2 =  0.3606544461879D-05\n",
      " lsoda--  warning..internal t (=r1) and h (=r2) are\u0000\u0000\n",
      "       such that in the machine, t + h = t on the next step  \n",
      "       (h = step size). solver will continue anyway\u0000\u0000\n",
      "      in above,  r1 =  0.6777051652905D+12   r2 =  0.3606544461879D-04\n",
      " lsoda--  above warning has been issued i1 times.  \u0000\u0000\n",
      "       it will not be issued again for this problem\u0000\u0000\n",
      "      in above message,  i1 =        10\n",
      " lsoda--  warning..internal t (=r1) and h (=r2) are\u0000\u0000\n",
      "       such that in the machine, t + h = t on the next step  \n",
      "       (h = step size). solver will continue anyway\u0000\u0000\n",
      "      in above,  r1 =  0.9758619912959D+12   r2 =  0.1965761726280D-04\n",
      " lsoda--  warning..internal t (=r1) and h (=r2) are\u0000\u0000\n",
      "       such that in the machine, t + h = t on the next step  \n",
      "       (h = step size). solver will continue anyway\u0000\u0000\n",
      "      in above,  r1 =  0.9758619912959D+12   r2 =  0.1965761726280D-04\n",
      " lsoda--  warning..internal t (=r1) and h (=r2) are\u0000\u0000\n",
      "       such that in the machine, t + h = t on the next step  \n",
      "       (h = step size). solver will continue anyway\u0000\u0000\n",
      "      in above,  r1 =  0.9758619912959D+12   r2 =  0.1965761726280D-04\n",
      " lsoda--  warning..internal t (=r1) and h (=r2) are\u0000\u0000\n",
      "       such that in the machine, t + h = t on the next step  \n",
      "       (h = step size). solver will continue anyway\u0000\u0000\n",
      "      in above,  r1 =  0.9758619912959D+12   r2 =  0.2562530167757D-04\n",
      " lsoda--  warning..internal t (=r1) and h (=r2) are\u0000\u0000\n",
      "       such that in the machine, t + h = t on the next step  \n",
      "       (h = step size). solver will continue anyway\u0000\u0000\n",
      "      in above,  r1 =  0.9758619912959D+12   r2 =  0.6406325419393D-05\n",
      " lsoda--  warning..internal t (=r1) and h (=r2) are\u0000\u0000\n",
      "       such that in the machine, t + h = t on the next step  \n",
      "       (h = step size). solver will continue anyway\u0000\u0000\n",
      "      in above,  r1 =  0.9758619912959D+12   r2 =  0.6406325419393D-05\n",
      " lsoda--  warning..internal t (=r1) and h (=r2) are\u0000\u0000\n",
      "       such that in the machine, t + h = t on the next step  \n",
      "       (h = step size). solver will continue anyway\u0000\u0000\n",
      "      in above,  r1 =  0.9758619912959D+12   r2 =  0.6974646859419D-05\n",
      " lsoda--  warning..internal t (=r1) and h (=r2) are\u0000\u0000\n",
      "       such that in the machine, t + h = t on the next step  \n",
      "       (h = step size). solver will continue anyway\u0000\u0000\n",
      "      in above,  r1 =  0.9758619912959D+12   r2 =  0.1743661714855D-05\n",
      " lsoda--  warning..internal t (=r1) and h (=r2) are\u0000\u0000\n",
      "       such that in the machine, t + h = t on the next step  \n",
      "       (h = step size). solver will continue anyway\u0000\u0000\n",
      "      in above,  r1 =  0.9758619912959D+12   r2 =  0.1743661714855D-05\n",
      " lsoda--  warning..internal t (=r1) and h (=r2) are\u0000\u0000\n",
      "       such that in the machine, t + h = t on the next step  \n",
      "       (h = step size). solver will continue anyway\u0000\u0000\n",
      "      in above,  r1 =  0.9758619912959D+12   r2 =  0.1683715659492D-05\n",
      " lsoda--  above warning has been issued i1 times.  \u0000\u0000\n",
      "       it will not be issued again for this problem\u0000\u0000\n",
      "      in above message,  i1 =        10\n"
     ]
    }
   ],
   "source": [
    "sources.evolve_sources(t_evol=50000 * u.yr)"
   ]
  },
  {
   "cell_type": "code",
   "execution_count": 38,
   "id": "160d7735-7ad5-4107-bf73-7ca4c339c597",
   "metadata": {},
   "outputs": [
    {
     "data": {
      "text/plain": [
       "<legwork.source.Source at 0x7fa8fe940100>"
      ]
     },
     "execution_count": 38,
     "metadata": {},
     "output_type": "execute_result"
    }
   ],
   "source": [
    "sources."
   ]
  }
 ],
 "metadata": {
  "kernelspec": {
   "display_name": "Python 3 (ipykernel)",
   "language": "python",
   "name": "python3"
  },
  "language_info": {
   "codemirror_mode": {
    "name": "ipython",
    "version": 3
   },
   "file_extension": ".py",
   "mimetype": "text/x-python",
   "name": "python",
   "nbconvert_exporter": "python",
   "pygments_lexer": "ipython3",
   "version": "3.8.5"
  }
 },
 "nbformat": 4,
 "nbformat_minor": 5
}
